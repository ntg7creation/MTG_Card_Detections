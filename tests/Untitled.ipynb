{
 "cells": [
  {
   "cell_type": "code",
   "execution_count": null,
   "id": "50726ccb-3a09-44c6-99e1-9a12ef9f7052",
   "metadata": {},
   "outputs": [],
   "source": [
    "import cv2\n",
    "import numpy as np\n",
    "#The Plan\n",
    "'''\n",
    "Sharpen square edges. Load the image, convert to grayscale, median blur to smooth, and sharpen to enhance edges.\n",
    "\n",
    "Obtain binary image and remove noise. We threshold to obtain a black/white binary image. \n",
    "Depending on the image, Otsu's thresholding or adaptive thresholding would work. \n",
    "From here we create a rectangular kernel and perform morphological transformations to remove noise and enhance the square contours.\n",
    "\n",
    "Detect and extract squares. Next we find contours and filter using minimum/maximum threshold area. \n",
    "Any contours that pass our filter will be our squares so to extract each ROI, we obtain the bounding rectangle coordinates, \n",
    "crop using Numpy slicing, and save each square image.\n",
    "'''"
   ]
  },
  {
   "cell_type": "code",
   "execution_count": null,
   "id": "f40ad05f-1d10-4029-bdca-eec4654cdc97",
   "metadata": {},
   "outputs": [],
   "source": [
    "#Load the image, convert to grayscale, median blur to smooth, and sharpen to enhance edges"
   ]
  },
  {
   "cell_type": "code",
   "execution_count": null,
   "id": "2ec6058f-9cde-44e5-8cd7-fd70158d2ee8",
   "metadata": {},
   "outputs": [],
   "source": []
  }
 ],
 "metadata": {
  "kernelspec": {
   "display_name": "Python 3 (ipykernel)",
   "language": "python",
   "name": "python3"
  },
  "language_info": {
   "codemirror_mode": {
    "name": "ipython",
    "version": 3
   },
   "file_extension": ".py",
   "mimetype": "text/x-python",
   "name": "python",
   "nbconvert_exporter": "python",
   "pygments_lexer": "ipython3",
   "version": "3.10.5"
  }
 },
 "nbformat": 4,
 "nbformat_minor": 5
}
